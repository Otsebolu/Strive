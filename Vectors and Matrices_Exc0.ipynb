{
 "cells": [
  {
   "cell_type": "markdown",
   "metadata": {},
   "source": [
    "#Vectors and Matrices"
   ]
  },
  {
   "cell_type": "code",
   "execution_count": null,
   "metadata": {},
   "outputs": [],
   "source": [
    "#VECTORS"
   ]
  },
  {
   "cell_type": "code",
   "execution_count": 6,
   "metadata": {},
   "outputs": [
    {
     "data": {
      "text/plain": [
       "array([13, -4, 13,  5])"
      ]
     },
     "execution_count": 6,
     "metadata": {},
     "output_type": "execute_result"
    }
   ],
   "source": [
    "#Write a function add_vectors(u, v) that takes two lists of numbers of the same length, and returns a new list containing the sums of the corresponding elements of each.\n",
    "import numpy as np\n",
    "\n",
    "\n",
    "def add_vectors(u,v):\n",
    "    return np.add(u,v)\n",
    "    #c=np.add(u,v)\n",
    "    #print(c)\n",
    "    \n",
    "u= [1,2,3]   \n",
    "v = [1.5,2,3]\n",
    "\n",
    " \n",
    "#add_vectors(u,v)\n",
    "#add_vectors([1, 2, 1], [1, 4, 3])\n",
    "add_vectors([11, 0, -4, 5], [2, -4, 17, 0])"
   ]
  },
  {
   "cell_type": "code",
   "execution_count": 13,
   "metadata": {},
   "outputs": [
    {
     "data": {
      "text/plain": [
       "[21, 0, 35, 77, 14]"
      ]
     },
     "execution_count": 13,
     "metadata": {},
     "output_type": "execute_result"
    }
   ],
   "source": [
    "#Write a function scalar_mult(s, v) that takes a number, s, and a list, v and returns the scalar multiple of v by s.\n",
    "\n",
    "#without numpy\n",
    "def scalar_mult(s, v):\n",
    "    m=[]\n",
    "    for x in v:\n",
    "        m.append(s*x)\n",
    "    return m\n",
    "    \n",
    "\n",
    "#scalar_mult(5, [1, 2])  \n",
    "#scalar_mult(3, [1, 0, -1])\n",
    "scalar_mult(7, [3, 0, 5, 11, 2])\n"
   ]
  },
  {
   "cell_type": "code",
   "execution_count": 14,
   "metadata": {},
   "outputs": [
    {
     "data": {
      "text/plain": [
       "array([ 5, 10])"
      ]
     },
     "execution_count": 14,
     "metadata": {},
     "output_type": "execute_result"
    }
   ],
   "source": [
    "#with np\n",
    "def scalar_mult_np(s, v):\n",
    "    return s*np.array(v)\n",
    "scalar_mult_np(5, [1, 2])"
   ]
  },
  {
   "cell_type": "code",
   "execution_count": 17,
   "metadata": {},
   "outputs": [
    {
     "data": {
      "text/plain": [
       "9"
      ]
     },
     "execution_count": 17,
     "metadata": {},
     "output_type": "execute_result"
    }
   ],
   "source": [
    "#Write a function dot_product(u, v) that takes two lists of numbers of the same length, and returns the sum of the products of the corresponding elements of each (the dot_product.\n",
    "\n",
    "# without numpy\n",
    "def dot_product(u, v):\n",
    "    c = [u*v for u,v in zip(u,v)]\n",
    "    return sum(c)\n",
    "   \n",
    "#dot_product([1, 1], [1, 1])\n",
    "dot_product([1, 2], [1, 4])\n",
    "#dot_product([1, 2, 1], [1, 4, 3])\n",
    "#dot_product([2, 0, -1, 1], [1, 5, 2, 0])"
   ]
  },
  {
   "cell_type": "code",
   "execution_count": 19,
   "metadata": {},
   "outputs": [
    {
     "data": {
      "text/plain": [
       "9"
      ]
     },
     "execution_count": 19,
     "metadata": {},
     "output_type": "execute_result"
    }
   ],
   "source": [
    "\n",
    "#with np\n",
    "def dot_product_np(a,b):\n",
    "    return np.dot(a,b)\n",
    "dot_product_np([1, 2], [1, 4])"
   ]
  },
  {
   "cell_type": "code",
   "execution_count": 27,
   "metadata": {},
   "outputs": [],
   "source": [
    "#Matrices"
   ]
  },
  {
   "cell_type": "code",
   "execution_count": 28,
   "metadata": {},
   "outputs": [
    {
     "data": {
      "text/plain": [
       "[[1, 2], [3, 4], [5, 6], [7, 8]]"
      ]
     },
     "execution_count": 28,
     "metadata": {},
     "output_type": "execute_result"
    }
   ],
   "source": [
    "\n",
    "#Create a new module named matrices.py or use the Jupyter notebook provided and add the following function, which returns a copy of nested lists of numbers such that the lists are not aliases:\n",
    "\n",
    "def copy_matrix(matrix):\n",
    "    return matrix.copy()\n",
    "    \n",
    "#copy_matrix([[1, 2], [3, 4]])\n",
    "copy_matrix([[1, 2], [3, 4], [5, 6], [7, 8]])\n"
   ]
  },
  {
   "cell_type": "code",
   "execution_count": 32,
   "metadata": {},
   "outputs": [
    {
     "data": {
      "text/plain": [
       "array([[3, 2, 5],\n",
       "       [1, 4, 7],\n",
       "       [0, 0, 0]])"
      ]
     },
     "execution_count": 32,
     "metadata": {},
     "output_type": "execute_result"
    }
   ],
   "source": [
    "\n",
    "#using vstack\n",
    "def add_row(matrix):\n",
    "    m=[]\n",
    "    for x in matrix:\n",
    "        a=len(x)\n",
    "    for i in range(a):\n",
    "        m.append(0)\n",
    "    return np.vstack([matrix,m])\n",
    "    \n",
    "    \"\"\"\n",
    "      >>> m = [[0, 0], [0, 0]]\n",
    "      >>> add_row(m)\n",
    "      [[0, 0], [0, 0], [0, 0]]\n",
    "      >>> n = [[3, 2, 5], [1, 4, 7]]\n",
    "      >>> add_row(n)\n",
    "      [[3, 2, 5], [1, 4, 7], [0, 0, 0]]\n",
    "      >>> n\n",
    "      [[3, 2, 5], [1, 4, 7]]\n",
    "    \"\"\"\n",
    "    \n",
    "n = [[3, 2, 5], [1, 4, 7]]\n",
    "add_row(n) \n",
    "#m = [[0, 0], [0, 0]]\n",
    "#add_row(m)\n",
    "# [[0, 0], [0, 0], [0, 0]]"
   ]
  },
  {
   "cell_type": "code",
   "execution_count": 36,
   "metadata": {},
   "outputs": [
    {
     "data": {
      "text/plain": [
       "matrix([[3, 4],\n",
       "        [5, 6]])"
      ]
     },
     "execution_count": 36,
     "metadata": {},
     "output_type": "execute_result"
    }
   ],
   "source": [
    "#Write a function add_matrices(m1, m2) that adds m1 and m2 and returns a new matrix containing their sum. You can assume that m1 and m2 are the same size. You add two matrices by adding their corresponding values.\n",
    "\n",
    "def add_matrices_np(a, b):\n",
    "    a=np.matrix(a)\n",
    "    b=np.matrix(b)\n",
    "    #we could double check it is a matrix and so on\n",
    "    return a+b\n",
    "\n",
    "\n",
    "\n",
    "a = [[1, 2], [3, 4]]\n",
    "b = [[2, 2], [2, 2]]\n",
    "add_matrices_np(a, b)"
   ]
  },
  {
   "cell_type": "code",
   "execution_count": 38,
   "metadata": {},
   "outputs": [
    {
     "data": {
      "text/plain": [
       "matrix([[ 3,  6],\n",
       "        [ 9, 12]])"
      ]
     },
     "execution_count": 38,
     "metadata": {},
     "output_type": "execute_result"
    }
   ],
   "source": [
    "#Write a function scalar_mult(s, m) that multiplies a matrix, m, by a scalar, s.\n",
    "\n",
    "# numpy\n",
    "def scalar_mult(s, m):\n",
    "    m=np.matrix(m)\n",
    "    return s*m\n",
    "\n",
    "    \n",
    "a = [[1, 2], [3, 4]]\n",
    "scalar_mult(3, a)"
   ]
  },
  {
   "cell_type": "code",
   "execution_count": 42,
   "metadata": {},
   "outputs": [
    {
     "data": {
      "text/plain": [
       "50"
      ]
     },
     "execution_count": 42,
     "metadata": {},
     "output_type": "execute_result"
    }
   ],
   "source": [
    "#write functions row_times_column and matrix_mult:\n",
    "\n",
    "def row_times_column(m1, row, m2, column):\n",
    "    a=np.matmul(m1, m2)\n",
    "    return  a[row][column]\n",
    "\n",
    "   \n",
    "#row_times_column([[1, 2], [3, 4]], 0, [[5, 6], [7, 8]], 0)\n",
    "#row_times_column([[1, 2], [3, 4]], 1, [[5, 6], [7, 8]], 0)\n",
    "row_times_column([[1, 2], [3, 4]], 1, [[5, 6], [7, 8]], 1)    "
   ]
  },
  {
   "cell_type": "code",
   "execution_count": 49,
   "metadata": {},
   "outputs": [
    {
     "data": {
      "text/plain": [
       "array([[3, 4, 6],\n",
       "       [1, 5, 9]])"
      ]
     },
     "execution_count": 49,
     "metadata": {},
     "output_type": "execute_result"
    }
   ],
   "source": [
    "#Write a function transpose that takes a matrix as an argument and returns is transpose:\n",
    "\n",
    "\n",
    "def transpose_np(m):\n",
    "    m = np.array(m)\n",
    "    return m.T\n",
    "\n",
    "#m = [[3, 4, 6]]\n",
    "#transpose_np(m)\n",
    "m = [[3, 1], [4, 5], [6, 9]]\n",
    "transpose_np(m)\n",
    "    "
   ]
  }
 ],
 "metadata": {
  "kernelspec": {
   "display_name": "strive",
   "language": "python",
   "name": "strive"
  },
  "language_info": {
   "codemirror_mode": {
    "name": "ipython",
    "version": 3
   },
   "file_extension": ".py",
   "mimetype": "text/x-python",
   "name": "python",
   "nbconvert_exporter": "python",
   "pygments_lexer": "ipython3",
   "version": "3.7.9"
  }
 },
 "nbformat": 4,
 "nbformat_minor": 4
}
