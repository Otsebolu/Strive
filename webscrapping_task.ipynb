{
 "cells": [
  {
   "cell_type": "code",
   "execution_count": null,
   "metadata": {
    "cell_id": "00000-947a9e9a-e6ce-4dfe-a238-2319020a9a65",
    "deepnote_cell_type": "code",
    "execution_millis": 202,
    "execution_start": 1607619544574,
    "output_cleared": false,
    "source_hash": "8e8aea99",
    "tags": []
   },
   "outputs": [],
   "source": [
    "import pandas as pd\n",
    "import requests\n",
    "from bs4 import BeautifulSoup\n",
    "from datetime import date, timedelta\n",
    "\n",
    "\n",
    "page =requests.get(\"https://weather.com/weather/tenday/l/San+Francisco+CA?canonicalCityId=dfdaba8cbe3a4d12a8796e1f7b1ccc7174b4b0a2d5ddb1c8566ae9f154fa638c\")\n",
    "# Print the status code of the response.\n",
    "soup =BeautifulSoup(page.content, 'html.parser')\n",
    "#print(soup.prettify())"
   ]
  },
  {
   "cell_type": "code",
   "execution_count": null,
   "metadata": {
    "cell_id": "00001-cac3ed73-0949-41f1-9aeb-5d7ea1c68af2",
    "deepnote_cell_type": "code",
    "execution_millis": 2,
    "execution_start": 1607619547901,
    "output_cleared": false,
    "source_hash": "9fffe3e8",
    "tags": []
   },
   "outputs": [],
   "source": [
    "days = soup.find_all('h2', class_='DetailsSummary--daypartName--1Mebr')\n",
    "#print(days)\n",
    "day_list = []\n",
    "date_list = []\n",
    "s:for element in day\n",
    "    day = element.get_text().split()[0]\n",
    "    day_list.append(day)\n",
    "print(day_list)\n",
    "print(date_list)"
   ]
  },
  {
   "cell_type": "code",
   "execution_count": null,
   "metadata": {
    "cell_id": "00002-fe034efc-7041-4cbf-92da-c864cc31b739",
    "deepnote_cell_type": "code",
    "execution_millis": 2,
    "execution_start": 1607619551456,
    "output_cleared": false,
    "source_hash": "da2deb6c",
    "tags": []
   },
   "outputs": [],
   "source": [
    "date = soup.find_all('span', class_=\"DailyContent--daypartDate--3MM0J\")\n",
    "#print(date)\n",
    "date_list = []\n",
    "for element in date:\n",
    "    date_n = element.get_text().split()\n",
    "    date_list.append(date_n)\n",
    "print(date_list)\n",
    "for i in date_list:\n",
    "    \n"
   ]
  },
  {
   "cell_type": "code",
   "execution_count": 34,
   "metadata": {
    "cell_id": "00003-15167497-6231-4760-853a-b73eb6b29b4f",
    "deepnote_cell_type": "code",
    "execution_millis": 0,
    "execution_start": 1607619554389,
    "output_cleared": false,
    "source_hash": "73804449",
    "tags": []
   },
   "outputs": [
    {
     "name": "stdout",
     "output_type": "stream",
     "text": [
      "['2020-12-10', '2020-12-11', '2020-12-12', '2020-12-13', '2020-12-14', '2020-12-15', '2020-12-16', '2020-12-17', '2020-12-18', '2020-12-19']\n"
     ]
    }
   ],
   "source": [
    "\n",
    "import datetime\n",
    "date_list = []\n",
    "for i in range(10):\n",
    "\n",
    "    date=datetime.datetime.now() + datetime.timedelta(days=i)\n",
    "    date_list.append(date.strftime('%Y-%m-%d'))\n",
    "\n",
    "print(date_list)\n",
    "  \n",
    "\n",
    "\n"
   ]
  },
  {
   "cell_type": "code",
   "execution_count": 35,
   "metadata": {
    "cell_id": "00005-a9ac629e-db7c-45a8-9fff-07f0a7d117bb",
    "deepnote_cell_type": "code",
    "execution_millis": 3,
    "execution_start": 1607619559800,
    "output_cleared": false,
    "source_hash": "264d6019",
    "tags": []
   },
   "outputs": [
    {
     "name": "stdout",
     "output_type": "stream",
     "text": [
      "['Partly cloudy skies. High 57F. Winds W at 10 to 20 mph.', 'Partly cloudy early followed by cloudy skies overnight. Low 44F. Winds WNW at 10 to 20 mph.', 'Partly cloudy skies during the morning hours will become overcast in the afternoon. High near 55F. Winds WNW at 5 to 10 mph.', 'Rain showers in the evening will evolve into a more steady rain overnight. Low 48F. Winds SSW at 10 to 15 mph. Chance of rain 70%. Rainfall around a quarter of an inch.', 'Rain showers in the morning becoming more intermittent in the afternoon. High 57F. Winds SW at 10 to 15 mph. Chance of rain 50%.', 'Cloudy in the evening, then off and on rain showers after midnight. Low near 50F. Winds S at 5 to 10 mph. Chance of rain 60%.', 'Rain early...then remaining cloudy with showers in the afternoon. High 59F. Winds SSW at 10 to 20 mph. Chance of rain 60%. Rainfall near a quarter of an inch.', 'Rain showers early with overcast skies late. Low 48F. Winds W at 5 to 10 mph. Chance of rain 40%.', 'Partly cloudy. High 58F. Winds WNW at 5 to 10 mph.', 'Partly cloudy skies during the evening will give way to cloudy skies overnight. Low 44F. Winds light and variable.', 'Mostly cloudy skies early, then partly cloudy in the afternoon. High 57F. Winds WNW at 5 to 10 mph.', 'Partly cloudy skies early will become overcast later during the night. Low 47F. Winds light and variable.', 'Cloudy with showers. High 58F. Winds SSW at 5 to 10 mph. Chance of rain 40%.', 'Showers in the evening, then cloudy overnight. Low 46F. Winds W at 5 to 10 mph. Chance of rain 30%.', 'Partly cloudy skies. High 58F. Winds WNW at 5 to 10 mph.', 'Partly cloudy skies early will give way to occasional showers later during the night. Low 46F. Winds light and variable. Chance of rain 30%.', 'Mostly cloudy skies with a few showers later in the day. High 58F. Winds SW at 5 to 10 mph. Chance of rain 30%.', 'Considerable cloudiness with occasional rain showers. Low 46F. Winds light and variable. Chance of rain 40%.', 'Cloudy with showers. High 59F. Winds W at 5 to 10 mph. Chance of rain 40%.', 'Cloudy with a few showers. Low near 45F. Winds light and variable. Chance of rain 30%.', 'Mostly cloudy skies early will become partly cloudy later in the day. High near 60F. Winds NW at 5 to 10 mph.', 'Partly cloudy skies early will become overcast later during the night. Low around 45F. Winds WNW at 5 to 10 mph.', 'Sunshine and clouds mixed. High around 60F. Winds WNW at 5 to 10 mph.', 'Overcast with rain showers at times. Low 44F. Winds WNW at 5 to 10 mph. Chance of rain 40%.', 'Partly cloudy skies. High 59F. Winds NW at 5 to 10 mph.', 'Mostly clear early then increasing cloudiness overnight. Low 42F. Winds NNW at 5 to 10 mph.', 'Intervals of clouds and sunshine. High 59F. Winds NNW at 5 to 10 mph.', 'Partly cloudy skies early will become overcast later during the night. Low 42F. Winds light and variable.', 'Intervals of clouds and sunshine. High 59F. Winds N at 5 to 10 mph.', 'Partly cloudy skies during the evening will give way to cloudy skies overnight. Low 43F. Winds light and variable.']\n"
     ]
    }
   ],
   "source": [
    "# A short description of the conditions (Clear early then increasing cloudiness after midnight. Low 41F. Winds light and variable)\n",
    "\n",
    "description = soup.find_all('p',class_=\"DailyContent--narrative--3AcXd\" )\n",
    "#print(days)\n",
    "description_list = []\n",
    "#desc_list = []\n",
    "for element in description:\n",
    "    ele = element.get_text()\n",
    "    description_list.append(ele)\n",
    "\n",
    "print(description_list)\n",
    "\n",
    "\n"
   ]
  },
  {
   "cell_type": "code",
   "execution_count": 36,
   "metadata": {
    "cell_id": "00006-42d93509-38d0-4537-96a2-141d94f3216a",
    "deepnote_cell_type": "code",
    "execution_millis": 2,
    "execution_start": 1607619563275,
    "output_cleared": false,
    "source_hash": "4fb83bc0",
    "tags": []
   },
   "outputs": [
    {
     "ename": "SyntaxError",
     "evalue": "invalid syntax (<ipython-input-36-bd40e5020981>, line 4)",
     "output_type": "error",
     "traceback": [
      "\u001b[0;36m  File \u001b[0;32m\"<ipython-input-36-bd40e5020981>\"\u001b[0;36m, line \u001b[0;32m4\u001b[0m\n\u001b[0;31m    temp= soup.find_all('span', data-testid=\"TemperatureValue\", class=\"DetailsSummary--lowTempValue--1DlJK\")\u001b[0m\n\u001b[0m                                                                    ^\u001b[0m\n\u001b[0;31mSyntaxError\u001b[0m\u001b[0;31m:\u001b[0m invalid syntax\n"
     ]
    }
   ],
   "source": [
    "#The temperature low and high, converted into Celsius\n",
    "\n",
    "\n",
    "temp= soup.find_all('span', data-testid=\"TemperatureValue\", class=\"DetailsSummary--lowTempValue--1DlJK\")\n",
    "print(temp)\n",
    "#temp_list = []\n",
    "\n",
    "for element in temp:\n",
    "    tm = element.get_text()\n",
    "    temp_list.append(tm)\n",
    "print(temp_list)\n",
    "\n",
    "\n",
    "#<span data-testid=\"TemperatureValue\" class=\"DetailsSummary--highTempValue--3x6cL\">55°</span>"
   ]
  },
  {
   "cell_type": "code",
   "execution_count": null,
   "metadata": {
    "cell_id": "00007-374e2375-da51-4985-a076-85f05cf0b167",
    "deepnote_cell_type": "code",
    "output_cleared": false,
    "source_hash": "e6c9b039",
    "tags": []
   },
   "outputs": [],
   "source": [
    "\n",
    "For each element you scrape, The name of the item you targetted (ex: DailyContent--daypartDate--3MM0J)"
   ]
  },
  {
   "cell_type": "code",
   "execution_count": 27,
   "metadata": {
    "cell_id": "00007-2b086445-1f27-434d-a36f-85bd36268fcc",
    "deepnote_cell_type": "code",
    "execution_millis": 1,
    "execution_start": 1607619337402,
    "output_cleared": false,
    "source_hash": "fe80c77b",
    "tags": []
   },
   "outputs": [],
   "source": [
    "condition_description = soup.find_all('span', class_='DetailsSummary--extendedData--aaFeV')\n",
    "condition_list = []\n",
    "for i in condition_description:\n",
    "    condition = i.get_text()\n",
    "    condition_list.append(condition)"
   ]
  },
  {
   "cell_type": "code",
   "execution_count": 28,
   "metadata": {
    "cell_id": "00008-9982472b-21c5-4bca-8bf1-d104bf57fc6d",
    "deepnote_cell_type": "code",
    "execution_millis": 2,
    "execution_start": 1607619342235,
    "output_cleared": false,
    "source_hash": "72fcaba8",
    "tags": []
   },
   "outputs": [],
   "source": [
    "mmax_temp = soup.find_all('span', class_='DetailsSummary--highTempValue--3x6cL')\n",
    "mmax_temp_list = []\n",
    "for i in mmax_temp:\n",
    "    mmax = i.get_text().replace('°', '')\n",
    "    mmax_temp_list.append(mmax)\n",
    "\n",
    "\n",
    "def converter(fahrenheit):\n",
    "    celsius = (float(fahrenheit) - 32) * (5/9)\n",
    "    return round(celsius, 1)\n",
    "\n",
    "mmax_temp_celsius = []\n",
    "for i in mmax_temp_list:\n",
    "    mmax_temp_celsius.append(converter(i))"
   ]
  },
  {
   "cell_type": "code",
   "execution_count": 42,
   "metadata": {
    "cell_id": "00009-80967091-aabf-4545-ade2-abd362ae9750",
    "deepnote_cell_type": "code",
    "execution_millis": 1,
    "execution_start": 1607619652922,
    "output_cleared": false,
    "source_hash": "c1ac0cc",
    "tags": []
   },
   "outputs": [
    {
     "name": "stdout",
     "output_type": "stream",
     "text": [
      "[-15.6, -13.3, -17.8, -13.3, -15.6, -13.9, -14.4, -14.4, -14.4, -15.0, -15.0, -15.6, -16.7, -16.7, -16.1]\n"
     ]
    }
   ],
   "source": [
    "#The temperature low converted into Celsius\n",
    "\n",
    "llow_temp = soup.find_all('span', class_='DetailsSummary--lowTempValue--1DlJK')\n",
    "llow_temp_list = []\n",
    "for element in llow_temp:\n",
    "    tm= element.get_text().replace('°', '')\n",
    "    for i in tm:\n",
    "        tm=round((int(i)-32)*5/9, 1)\n",
    "        \n",
    "    #tm=(tm-32)*5/9\n",
    "    temp_list.append(tm)\n",
    "print(temp_list)\n",
    "\n",
    "#temp converted to Celsius\n"
   ]
  },
  {
   "cell_type": "code",
   "execution_count": null,
   "metadata": {
    "cell_id": "00010-b66de351-13c4-4210-adcc-a51d898c7b05",
    "deepnote_cell_type": "code",
    "execution_millis": 1,
    "execution_start": 1607619636897,
    "output_cleared": false,
    "source_hash": "ed106f53",
    "tags": []
   },
   "outputs": [],
   "source": [
    "\n"
   ]
  }
 ],
 "metadata": {
  "deepnote_execution_queue": [],
  "deepnote_notebook_id": "9c809f1d-2beb-45c1-96dc-ad74489eaa0b",
  "kernelspec": {
   "display_name": "Python 3",
   "language": "python",
   "name": "python3"
  },
  "language_info": {
   "codemirror_mode": {
    "name": "ipython",
    "version": 3
   },
   "file_extension": ".py",
   "mimetype": "text/x-python",
   "name": "python",
   "nbconvert_exporter": "python",
   "pygments_lexer": "ipython3",
   "version": "3.7.4"
  }
 },
 "nbformat": 4,
 "nbformat_minor": 2
}
